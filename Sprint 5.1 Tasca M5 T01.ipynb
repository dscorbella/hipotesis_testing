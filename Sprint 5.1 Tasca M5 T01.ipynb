{
 "cells": [
  {
   "cell_type": "markdown",
   "id": "90f68a4b",
   "metadata": {},
   "source": [
    "# Tasca M5 T01\n",
    "\n",
    "**Exercicis d'Hipotesis Testing.**\n",
    "\n",
    "## Exercici 1\n",
    "**Descarrega el dataset adjunt de dades oficials de la UEFA i selecciona un atribut del conjunt de dades. Calcula el p-valor i digues si rebutja la hipòtesi nul·la agafant un alfa de 5%.**"
   ]
  },
  {
   "cell_type": "code",
   "execution_count": 1,
   "id": "6718b881",
   "metadata": {
    "ExecuteTime": {
     "end_time": "2023-10-02T22:45:54.212461Z",
     "start_time": "2023-10-02T22:45:52.501157Z"
    }
   },
   "outputs": [
    {
     "data": {
      "text/html": [
       "<div>\n",
       "<style scoped>\n",
       "    .dataframe tbody tr th:only-of-type {\n",
       "        vertical-align: middle;\n",
       "    }\n",
       "\n",
       "    .dataframe tbody tr th {\n",
       "        vertical-align: top;\n",
       "    }\n",
       "\n",
       "    .dataframe thead th {\n",
       "        text-align: right;\n",
       "    }\n",
       "</style>\n",
       "<table border=\"1\" class=\"dataframe\">\n",
       "  <thead>\n",
       "    <tr style=\"text-align: right;\">\n",
       "      <th></th>\n",
       "      <th>Rk</th>\n",
       "      <th>Squad</th>\n",
       "      <th>Country</th>\n",
       "      <th>LgRk</th>\n",
       "      <th>MP</th>\n",
       "      <th>W</th>\n",
       "      <th>D</th>\n",
       "      <th>L</th>\n",
       "      <th>GF</th>\n",
       "      <th>GA</th>\n",
       "      <th>...</th>\n",
       "      <th>Pts</th>\n",
       "      <th>Pts/G</th>\n",
       "      <th>xG</th>\n",
       "      <th>xGA</th>\n",
       "      <th>xGD</th>\n",
       "      <th>xGD/90</th>\n",
       "      <th>Last 5</th>\n",
       "      <th>Attendance</th>\n",
       "      <th>Top Team Scorer</th>\n",
       "      <th>Goalkeeper</th>\n",
       "    </tr>\n",
       "  </thead>\n",
       "  <tbody>\n",
       "    <tr>\n",
       "      <th>0</th>\n",
       "      <td>1</td>\n",
       "      <td>Manchester City</td>\n",
       "      <td>ENG</td>\n",
       "      <td>1</td>\n",
       "      <td>37</td>\n",
       "      <td>28</td>\n",
       "      <td>6</td>\n",
       "      <td>3</td>\n",
       "      <td>96</td>\n",
       "      <td>24</td>\n",
       "      <td>...</td>\n",
       "      <td>90</td>\n",
       "      <td>2.43</td>\n",
       "      <td>86.1</td>\n",
       "      <td>26.8</td>\n",
       "      <td>59.3</td>\n",
       "      <td>1.60</td>\n",
       "      <td>W W W W D</td>\n",
       "      <td>52739</td>\n",
       "      <td>Kevin De Bruyne - 15</td>\n",
       "      <td>Ederson</td>\n",
       "    </tr>\n",
       "    <tr>\n",
       "      <th>1</th>\n",
       "      <td>2</td>\n",
       "      <td>Liverpool</td>\n",
       "      <td>ENG</td>\n",
       "      <td>2</td>\n",
       "      <td>36</td>\n",
       "      <td>26</td>\n",
       "      <td>8</td>\n",
       "      <td>2</td>\n",
       "      <td>89</td>\n",
       "      <td>24</td>\n",
       "      <td>...</td>\n",
       "      <td>86</td>\n",
       "      <td>2.39</td>\n",
       "      <td>84.6</td>\n",
       "      <td>33.1</td>\n",
       "      <td>51.4</td>\n",
       "      <td>1.43</td>\n",
       "      <td>W W W D W</td>\n",
       "      <td>53367</td>\n",
       "      <td>Mohamed Salah - 22</td>\n",
       "      <td>Alisson</td>\n",
       "    </tr>\n",
       "    <tr>\n",
       "      <th>2</th>\n",
       "      <td>3</td>\n",
       "      <td>Real Madrid</td>\n",
       "      <td>ESP</td>\n",
       "      <td>1</td>\n",
       "      <td>37</td>\n",
       "      <td>26</td>\n",
       "      <td>7</td>\n",
       "      <td>4</td>\n",
       "      <td>80</td>\n",
       "      <td>31</td>\n",
       "      <td>...</td>\n",
       "      <td>85</td>\n",
       "      <td>2.30</td>\n",
       "      <td>73.0</td>\n",
       "      <td>45.8</td>\n",
       "      <td>27.2</td>\n",
       "      <td>0.73</td>\n",
       "      <td>W W L W D</td>\n",
       "      <td>40624</td>\n",
       "      <td>Karim Benzema - 27</td>\n",
       "      <td>Thibaut Courtois</td>\n",
       "    </tr>\n",
       "    <tr>\n",
       "      <th>3</th>\n",
       "      <td>4</td>\n",
       "      <td>Bayern Munich</td>\n",
       "      <td>GER</td>\n",
       "      <td>1</td>\n",
       "      <td>34</td>\n",
       "      <td>24</td>\n",
       "      <td>5</td>\n",
       "      <td>5</td>\n",
       "      <td>97</td>\n",
       "      <td>37</td>\n",
       "      <td>...</td>\n",
       "      <td>77</td>\n",
       "      <td>2.26</td>\n",
       "      <td>88.1</td>\n",
       "      <td>37.1</td>\n",
       "      <td>51.0</td>\n",
       "      <td>1.50</td>\n",
       "      <td>W W L D D</td>\n",
       "      <td>33176</td>\n",
       "      <td>Robert Lewandowski - 35</td>\n",
       "      <td>Manuel Neuer</td>\n",
       "    </tr>\n",
       "    <tr>\n",
       "      <th>4</th>\n",
       "      <td>5</td>\n",
       "      <td>Paris S-G</td>\n",
       "      <td>FRA</td>\n",
       "      <td>1</td>\n",
       "      <td>37</td>\n",
       "      <td>25</td>\n",
       "      <td>8</td>\n",
       "      <td>4</td>\n",
       "      <td>85</td>\n",
       "      <td>36</td>\n",
       "      <td>...</td>\n",
       "      <td>83</td>\n",
       "      <td>2.24</td>\n",
       "      <td>71.6</td>\n",
       "      <td>38.1</td>\n",
       "      <td>33.4</td>\n",
       "      <td>0.90</td>\n",
       "      <td>W D D D W</td>\n",
       "      <td>41188</td>\n",
       "      <td>Kylian Mbappé - 25</td>\n",
       "      <td>Keylor Navas</td>\n",
       "    </tr>\n",
       "    <tr>\n",
       "      <th>...</th>\n",
       "      <td>...</td>\n",
       "      <td>...</td>\n",
       "      <td>...</td>\n",
       "      <td>...</td>\n",
       "      <td>...</td>\n",
       "      <td>...</td>\n",
       "      <td>...</td>\n",
       "      <td>...</td>\n",
       "      <td>...</td>\n",
       "      <td>...</td>\n",
       "      <td>...</td>\n",
       "      <td>...</td>\n",
       "      <td>...</td>\n",
       "      <td>...</td>\n",
       "      <td>...</td>\n",
       "      <td>...</td>\n",
       "      <td>...</td>\n",
       "      <td>...</td>\n",
       "      <td>...</td>\n",
       "      <td>...</td>\n",
       "      <td>...</td>\n",
       "    </tr>\n",
       "    <tr>\n",
       "      <th>93</th>\n",
       "      <td>94</td>\n",
       "      <td>Bordeaux</td>\n",
       "      <td>FRA</td>\n",
       "      <td>20</td>\n",
       "      <td>37</td>\n",
       "      <td>5</td>\n",
       "      <td>13</td>\n",
       "      <td>19</td>\n",
       "      <td>48</td>\n",
       "      <td>89</td>\n",
       "      <td>...</td>\n",
       "      <td>28</td>\n",
       "      <td>0.76</td>\n",
       "      <td>41.3</td>\n",
       "      <td>68.5</td>\n",
       "      <td>-27.2</td>\n",
       "      <td>-0.73</td>\n",
       "      <td>D L L L D</td>\n",
       "      <td>22083</td>\n",
       "      <td>Hwang Ui-jo - 11</td>\n",
       "      <td>Benoît Costil</td>\n",
       "    </tr>\n",
       "    <tr>\n",
       "      <th>94</th>\n",
       "      <td>95</td>\n",
       "      <td>Venezia</td>\n",
       "      <td>ITA</td>\n",
       "      <td>20</td>\n",
       "      <td>37</td>\n",
       "      <td>6</td>\n",
       "      <td>8</td>\n",
       "      <td>23</td>\n",
       "      <td>34</td>\n",
       "      <td>69</td>\n",
       "      <td>...</td>\n",
       "      <td>26</td>\n",
       "      <td>0.70</td>\n",
       "      <td>35.4</td>\n",
       "      <td>70.5</td>\n",
       "      <td>-35.1</td>\n",
       "      <td>-0.95</td>\n",
       "      <td>L L L W D</td>\n",
       "      <td>6705</td>\n",
       "      <td>Thomas Henry - 9</td>\n",
       "      <td>Sergio Romero</td>\n",
       "    </tr>\n",
       "    <tr>\n",
       "      <th>95</th>\n",
       "      <td>96</td>\n",
       "      <td>Watford</td>\n",
       "      <td>ENG</td>\n",
       "      <td>19</td>\n",
       "      <td>37</td>\n",
       "      <td>6</td>\n",
       "      <td>5</td>\n",
       "      <td>26</td>\n",
       "      <td>33</td>\n",
       "      <td>75</td>\n",
       "      <td>...</td>\n",
       "      <td>23</td>\n",
       "      <td>0.62</td>\n",
       "      <td>37.8</td>\n",
       "      <td>64.1</td>\n",
       "      <td>-26.3</td>\n",
       "      <td>-0.71</td>\n",
       "      <td>L L L D L</td>\n",
       "      <td>20614</td>\n",
       "      <td>Emmanuel Dennis - 10</td>\n",
       "      <td>Ben Foster</td>\n",
       "    </tr>\n",
       "    <tr>\n",
       "      <th>96</th>\n",
       "      <td>97</td>\n",
       "      <td>Norwich City</td>\n",
       "      <td>ENG</td>\n",
       "      <td>20</td>\n",
       "      <td>37</td>\n",
       "      <td>5</td>\n",
       "      <td>7</td>\n",
       "      <td>25</td>\n",
       "      <td>23</td>\n",
       "      <td>79</td>\n",
       "      <td>...</td>\n",
       "      <td>22</td>\n",
       "      <td>0.59</td>\n",
       "      <td>33.0</td>\n",
       "      <td>73.3</td>\n",
       "      <td>-40.4</td>\n",
       "      <td>-1.09</td>\n",
       "      <td>L L L L D</td>\n",
       "      <td>26826</td>\n",
       "      <td>Teemu Pukki - 11</td>\n",
       "      <td>Tim Krul</td>\n",
       "    </tr>\n",
       "    <tr>\n",
       "      <th>97</th>\n",
       "      <td>98</td>\n",
       "      <td>Greuther Fürth</td>\n",
       "      <td>GER</td>\n",
       "      <td>18</td>\n",
       "      <td>34</td>\n",
       "      <td>3</td>\n",
       "      <td>9</td>\n",
       "      <td>22</td>\n",
       "      <td>28</td>\n",
       "      <td>82</td>\n",
       "      <td>...</td>\n",
       "      <td>18</td>\n",
       "      <td>0.53</td>\n",
       "      <td>30.7</td>\n",
       "      <td>60.3</td>\n",
       "      <td>-29.6</td>\n",
       "      <td>-0.87</td>\n",
       "      <td>D L D L L</td>\n",
       "      <td>7672</td>\n",
       "      <td>Branimir Hrgota - 9</td>\n",
       "      <td>Sascha Burchert</td>\n",
       "    </tr>\n",
       "  </tbody>\n",
       "</table>\n",
       "<p>98 rows × 21 columns</p>\n",
       "</div>"
      ],
      "text/plain": [
       "    Rk            Squad Country  LgRk  MP   W   D   L  GF  GA  ...  Pts  \\\n",
       "0    1  Manchester City     ENG     1  37  28   6   3  96  24  ...   90   \n",
       "1    2        Liverpool     ENG     2  36  26   8   2  89  24  ...   86   \n",
       "2    3      Real Madrid     ESP     1  37  26   7   4  80  31  ...   85   \n",
       "3    4    Bayern Munich     GER     1  34  24   5   5  97  37  ...   77   \n",
       "4    5        Paris S-G     FRA     1  37  25   8   4  85  36  ...   83   \n",
       "..  ..              ...     ...   ...  ..  ..  ..  ..  ..  ..  ...  ...   \n",
       "93  94         Bordeaux     FRA    20  37   5  13  19  48  89  ...   28   \n",
       "94  95          Venezia     ITA    20  37   6   8  23  34  69  ...   26   \n",
       "95  96          Watford     ENG    19  37   6   5  26  33  75  ...   23   \n",
       "96  97     Norwich City     ENG    20  37   5   7  25  23  79  ...   22   \n",
       "97  98   Greuther Fürth     GER    18  34   3   9  22  28  82  ...   18   \n",
       "\n",
       "    Pts/G    xG   xGA   xGD  xGD/90     Last 5 Attendance  \\\n",
       "0    2.43  86.1  26.8  59.3    1.60  W W W W D      52739   \n",
       "1    2.39  84.6  33.1  51.4    1.43  W W W D W      53367   \n",
       "2    2.30  73.0  45.8  27.2    0.73  W W L W D      40624   \n",
       "3    2.26  88.1  37.1  51.0    1.50  W W L D D      33176   \n",
       "4    2.24  71.6  38.1  33.4    0.90  W D D D W      41188   \n",
       "..    ...   ...   ...   ...     ...        ...        ...   \n",
       "93   0.76  41.3  68.5 -27.2   -0.73  D L L L D      22083   \n",
       "94   0.70  35.4  70.5 -35.1   -0.95  L L L W D       6705   \n",
       "95   0.62  37.8  64.1 -26.3   -0.71  L L L D L      20614   \n",
       "96   0.59  33.0  73.3 -40.4   -1.09  L L L L D      26826   \n",
       "97   0.53  30.7  60.3 -29.6   -0.87  D L D L L       7672   \n",
       "\n",
       "            Top Team Scorer        Goalkeeper  \n",
       "0      Kevin De Bruyne - 15           Ederson  \n",
       "1        Mohamed Salah - 22           Alisson  \n",
       "2        Karim Benzema - 27  Thibaut Courtois  \n",
       "3   Robert Lewandowski - 35      Manuel Neuer  \n",
       "4        Kylian Mbappé - 25      Keylor Navas  \n",
       "..                      ...               ...  \n",
       "93         Hwang Ui-jo - 11     Benoît Costil  \n",
       "94         Thomas Henry - 9     Sergio Romero  \n",
       "95     Emmanuel Dennis - 10        Ben Foster  \n",
       "96         Teemu Pukki - 11          Tim Krul  \n",
       "97      Branimir Hrgota - 9   Sascha Burchert  \n",
       "\n",
       "[98 rows x 21 columns]"
      ]
     },
     "execution_count": 1,
     "metadata": {},
     "output_type": "execute_result"
    }
   ],
   "source": [
    "import pandas as pd\n",
    "import seaborn as sns\n",
    "import matplotlib.pyplot as plt\n",
    "\n",
    "df = pd.read_csv('data/Lligues europees UEFA.csv',sep=';', encoding='latin1')\n",
    "\n",
    "df"
   ]
  },
  {
   "cell_type": "markdown",
   "id": "351399dc",
   "metadata": {},
   "source": [
    "**Diccionario de Terminos:**\n",
    "\n",
    "- **'Rk'**: Ranking o posición del club en la tabla de clasificación.\n",
    "- **'Squad'**: Nombre del club o equipo.\n",
    "- **'Country'**: País al que pertenece el club.\n",
    "- **'LgRk'**: Ranking o posición del club en su liga respectiva.\n",
    "- **'MP'**: Partidos jugados.\n",
    "- **'W'**: Partidos ganados.\n",
    "- **'D'**: Partidos empatados.\n",
    "- **'L'**: Partidos perdidos.\n",
    "- **'GF'**: Goles a favor.\n",
    "- **'GA'**: Goles en contra.\n",
    "- **'GD'**: Diferencia de goles (GF - GA).\n",
    "- **'Pts'**: Puntos obtenidos en la liga.\n",
    "- **'Pts/G'**: Puntos por partido (Pts divididos por MP).\n",
    "- **'xG'**: Expected Goals (goles esperados, una métrica estadística que evalúa la calidad de las oportunidades de gol creadas por el equipo).\n",
    "- **'xGA'**: Expected Goals Against (goles esperados en contra).\n",
    "- **'xGD'**: Expected Goal Difference (diferencia de goles esperada, xG - xGA).\n",
    "- **'xGD/90'**: Expected Goal Difference por partido.\n",
    "- **'Last 5'**: Rendimiento en los últimos 5 partidos.\n",
    "- **'Attendance'**: Asistencia promedio de espectadores a los partidos en el estadio.\n",
    "- **'Top Team Scorer'**: Nombre del máximo goleador del equipo.\n",
    "- **'Goalkeeper'**: Nombre del portero titular del equipo."
   ]
  },
  {
   "cell_type": "markdown",
   "id": "3e1449ee",
   "metadata": {},
   "source": [
    "Comprobamos que no existen 'nulls', 'nan' ni duplicados en el dataframe."
   ]
  },
  {
   "cell_type": "code",
   "execution_count": 2,
   "id": "5e72e99a",
   "metadata": {
    "ExecuteTime": {
     "end_time": "2023-10-02T22:45:58.988256Z",
     "start_time": "2023-10-02T22:45:58.978374Z"
    }
   },
   "outputs": [
    {
     "data": {
      "text/plain": [
       "Rk                 0\n",
       "Squad              0\n",
       "Country            0\n",
       "LgRk               0\n",
       "MP                 0\n",
       "W                  0\n",
       "D                  0\n",
       "L                  0\n",
       "GF                 0\n",
       "GA                 0\n",
       "GD                 0\n",
       "Pts                0\n",
       "Pts/G              0\n",
       "xG                 0\n",
       "xGA                0\n",
       "xGD                0\n",
       "xGD/90             0\n",
       "Last 5             0\n",
       "Attendance         0\n",
       "Top Team Scorer    0\n",
       "Goalkeeper         0\n",
       "dtype: int64"
      ]
     },
     "execution_count": 2,
     "metadata": {},
     "output_type": "execute_result"
    }
   ],
   "source": [
    "df.isnull().sum()"
   ]
  },
  {
   "cell_type": "code",
   "execution_count": 3,
   "id": "674d02af",
   "metadata": {
    "ExecuteTime": {
     "end_time": "2023-10-02T22:45:59.954979Z",
     "start_time": "2023-10-02T22:45:59.945559Z"
    }
   },
   "outputs": [
    {
     "data": {
      "text/plain": [
       "Rk                 0\n",
       "Squad              0\n",
       "Country            0\n",
       "LgRk               0\n",
       "MP                 0\n",
       "W                  0\n",
       "D                  0\n",
       "L                  0\n",
       "GF                 0\n",
       "GA                 0\n",
       "GD                 0\n",
       "Pts                0\n",
       "Pts/G              0\n",
       "xG                 0\n",
       "xGA                0\n",
       "xGD                0\n",
       "xGD/90             0\n",
       "Last 5             0\n",
       "Attendance         0\n",
       "Top Team Scorer    0\n",
       "Goalkeeper         0\n",
       "dtype: int64"
      ]
     },
     "execution_count": 3,
     "metadata": {},
     "output_type": "execute_result"
    }
   ],
   "source": [
    "df.isna().sum()"
   ]
  },
  {
   "cell_type": "code",
   "execution_count": 4,
   "id": "79821c61",
   "metadata": {
    "ExecuteTime": {
     "end_time": "2023-10-02T22:46:00.861347Z",
     "start_time": "2023-10-02T22:46:00.850640Z"
    }
   },
   "outputs": [
    {
     "data": {
      "text/plain": [
       "0"
      ]
     },
     "execution_count": 4,
     "metadata": {},
     "output_type": "execute_result"
    }
   ],
   "source": [
    "df.duplicated().sum()"
   ]
  },
  {
   "cell_type": "markdown",
   "id": "592b6268",
   "metadata": {
    "ExecuteTime": {
     "end_time": "2023-10-02T18:03:58.648279Z",
     "start_time": "2023-10-02T18:03:58.637802Z"
    }
   },
   "source": [
    "Debido a que el número de partidos jugados no es el mismo para todas las ligas, procederé a dividir las variables 'GF', 'GA', 'xG' y 'xGA' por el número de partidos 'MP', de modo que tendremos unos datos mas precisos.\n",
    "En el caso de 'GD' será recalculado para que siga siendo la diferencia de goles (pero ahora, por partidos)"
   ]
  },
  {
   "cell_type": "code",
   "execution_count": 5,
   "id": "8d65cec8",
   "metadata": {
    "ExecuteTime": {
     "end_time": "2023-10-02T22:46:02.735742Z",
     "start_time": "2023-10-02T22:46:02.698878Z"
    }
   },
   "outputs": [
    {
     "data": {
      "text/html": [
       "<div>\n",
       "<style scoped>\n",
       "    .dataframe tbody tr th:only-of-type {\n",
       "        vertical-align: middle;\n",
       "    }\n",
       "\n",
       "    .dataframe tbody tr th {\n",
       "        vertical-align: top;\n",
       "    }\n",
       "\n",
       "    .dataframe thead th {\n",
       "        text-align: right;\n",
       "    }\n",
       "</style>\n",
       "<table border=\"1\" class=\"dataframe\">\n",
       "  <thead>\n",
       "    <tr style=\"text-align: right;\">\n",
       "      <th></th>\n",
       "      <th>Rk</th>\n",
       "      <th>Squad</th>\n",
       "      <th>Country</th>\n",
       "      <th>LgRk</th>\n",
       "      <th>MP</th>\n",
       "      <th>W</th>\n",
       "      <th>D</th>\n",
       "      <th>L</th>\n",
       "      <th>GF</th>\n",
       "      <th>GA</th>\n",
       "      <th>...</th>\n",
       "      <th>Pts</th>\n",
       "      <th>Pts/G</th>\n",
       "      <th>xG</th>\n",
       "      <th>xGA</th>\n",
       "      <th>xGD</th>\n",
       "      <th>xGD/90</th>\n",
       "      <th>Last 5</th>\n",
       "      <th>Attendance</th>\n",
       "      <th>Top Team Scorer</th>\n",
       "      <th>Goalkeeper</th>\n",
       "    </tr>\n",
       "  </thead>\n",
       "  <tbody>\n",
       "    <tr>\n",
       "      <th>0</th>\n",
       "      <td>1</td>\n",
       "      <td>Manchester City</td>\n",
       "      <td>ENG</td>\n",
       "      <td>1</td>\n",
       "      <td>37</td>\n",
       "      <td>28</td>\n",
       "      <td>6</td>\n",
       "      <td>3</td>\n",
       "      <td>2.59</td>\n",
       "      <td>0.65</td>\n",
       "      <td>...</td>\n",
       "      <td>90</td>\n",
       "      <td>2.43</td>\n",
       "      <td>2.33</td>\n",
       "      <td>0.72</td>\n",
       "      <td>59.3</td>\n",
       "      <td>1.60</td>\n",
       "      <td>W W W W D</td>\n",
       "      <td>52739</td>\n",
       "      <td>Kevin De Bruyne - 15</td>\n",
       "      <td>Ederson</td>\n",
       "    </tr>\n",
       "    <tr>\n",
       "      <th>1</th>\n",
       "      <td>2</td>\n",
       "      <td>Liverpool</td>\n",
       "      <td>ENG</td>\n",
       "      <td>2</td>\n",
       "      <td>36</td>\n",
       "      <td>26</td>\n",
       "      <td>8</td>\n",
       "      <td>2</td>\n",
       "      <td>2.47</td>\n",
       "      <td>0.67</td>\n",
       "      <td>...</td>\n",
       "      <td>86</td>\n",
       "      <td>2.39</td>\n",
       "      <td>2.35</td>\n",
       "      <td>0.92</td>\n",
       "      <td>51.4</td>\n",
       "      <td>1.43</td>\n",
       "      <td>W W W D W</td>\n",
       "      <td>53367</td>\n",
       "      <td>Mohamed Salah - 22</td>\n",
       "      <td>Alisson</td>\n",
       "    </tr>\n",
       "    <tr>\n",
       "      <th>2</th>\n",
       "      <td>3</td>\n",
       "      <td>Real Madrid</td>\n",
       "      <td>ESP</td>\n",
       "      <td>1</td>\n",
       "      <td>37</td>\n",
       "      <td>26</td>\n",
       "      <td>7</td>\n",
       "      <td>4</td>\n",
       "      <td>2.16</td>\n",
       "      <td>0.84</td>\n",
       "      <td>...</td>\n",
       "      <td>85</td>\n",
       "      <td>2.30</td>\n",
       "      <td>1.97</td>\n",
       "      <td>1.24</td>\n",
       "      <td>27.2</td>\n",
       "      <td>0.73</td>\n",
       "      <td>W W L W D</td>\n",
       "      <td>40624</td>\n",
       "      <td>Karim Benzema - 27</td>\n",
       "      <td>Thibaut Courtois</td>\n",
       "    </tr>\n",
       "    <tr>\n",
       "      <th>3</th>\n",
       "      <td>4</td>\n",
       "      <td>Bayern Munich</td>\n",
       "      <td>GER</td>\n",
       "      <td>1</td>\n",
       "      <td>34</td>\n",
       "      <td>24</td>\n",
       "      <td>5</td>\n",
       "      <td>5</td>\n",
       "      <td>2.85</td>\n",
       "      <td>1.09</td>\n",
       "      <td>...</td>\n",
       "      <td>77</td>\n",
       "      <td>2.26</td>\n",
       "      <td>2.59</td>\n",
       "      <td>1.09</td>\n",
       "      <td>51.0</td>\n",
       "      <td>1.50</td>\n",
       "      <td>W W L D D</td>\n",
       "      <td>33176</td>\n",
       "      <td>Robert Lewandowski - 35</td>\n",
       "      <td>Manuel Neuer</td>\n",
       "    </tr>\n",
       "    <tr>\n",
       "      <th>4</th>\n",
       "      <td>5</td>\n",
       "      <td>Paris S-G</td>\n",
       "      <td>FRA</td>\n",
       "      <td>1</td>\n",
       "      <td>37</td>\n",
       "      <td>25</td>\n",
       "      <td>8</td>\n",
       "      <td>4</td>\n",
       "      <td>2.30</td>\n",
       "      <td>0.97</td>\n",
       "      <td>...</td>\n",
       "      <td>83</td>\n",
       "      <td>2.24</td>\n",
       "      <td>1.94</td>\n",
       "      <td>1.03</td>\n",
       "      <td>33.4</td>\n",
       "      <td>0.90</td>\n",
       "      <td>W D D D W</td>\n",
       "      <td>41188</td>\n",
       "      <td>Kylian Mbappé - 25</td>\n",
       "      <td>Keylor Navas</td>\n",
       "    </tr>\n",
       "    <tr>\n",
       "      <th>...</th>\n",
       "      <td>...</td>\n",
       "      <td>...</td>\n",
       "      <td>...</td>\n",
       "      <td>...</td>\n",
       "      <td>...</td>\n",
       "      <td>...</td>\n",
       "      <td>...</td>\n",
       "      <td>...</td>\n",
       "      <td>...</td>\n",
       "      <td>...</td>\n",
       "      <td>...</td>\n",
       "      <td>...</td>\n",
       "      <td>...</td>\n",
       "      <td>...</td>\n",
       "      <td>...</td>\n",
       "      <td>...</td>\n",
       "      <td>...</td>\n",
       "      <td>...</td>\n",
       "      <td>...</td>\n",
       "      <td>...</td>\n",
       "      <td>...</td>\n",
       "    </tr>\n",
       "    <tr>\n",
       "      <th>93</th>\n",
       "      <td>94</td>\n",
       "      <td>Bordeaux</td>\n",
       "      <td>FRA</td>\n",
       "      <td>20</td>\n",
       "      <td>37</td>\n",
       "      <td>5</td>\n",
       "      <td>13</td>\n",
       "      <td>19</td>\n",
       "      <td>1.30</td>\n",
       "      <td>2.41</td>\n",
       "      <td>...</td>\n",
       "      <td>28</td>\n",
       "      <td>0.76</td>\n",
       "      <td>1.12</td>\n",
       "      <td>1.85</td>\n",
       "      <td>-27.2</td>\n",
       "      <td>-0.73</td>\n",
       "      <td>D L L L D</td>\n",
       "      <td>22083</td>\n",
       "      <td>Hwang Ui-jo - 11</td>\n",
       "      <td>Benoît Costil</td>\n",
       "    </tr>\n",
       "    <tr>\n",
       "      <th>94</th>\n",
       "      <td>95</td>\n",
       "      <td>Venezia</td>\n",
       "      <td>ITA</td>\n",
       "      <td>20</td>\n",
       "      <td>37</td>\n",
       "      <td>6</td>\n",
       "      <td>8</td>\n",
       "      <td>23</td>\n",
       "      <td>0.92</td>\n",
       "      <td>1.86</td>\n",
       "      <td>...</td>\n",
       "      <td>26</td>\n",
       "      <td>0.70</td>\n",
       "      <td>0.96</td>\n",
       "      <td>1.91</td>\n",
       "      <td>-35.1</td>\n",
       "      <td>-0.95</td>\n",
       "      <td>L L L W D</td>\n",
       "      <td>6705</td>\n",
       "      <td>Thomas Henry - 9</td>\n",
       "      <td>Sergio Romero</td>\n",
       "    </tr>\n",
       "    <tr>\n",
       "      <th>95</th>\n",
       "      <td>96</td>\n",
       "      <td>Watford</td>\n",
       "      <td>ENG</td>\n",
       "      <td>19</td>\n",
       "      <td>37</td>\n",
       "      <td>6</td>\n",
       "      <td>5</td>\n",
       "      <td>26</td>\n",
       "      <td>0.89</td>\n",
       "      <td>2.03</td>\n",
       "      <td>...</td>\n",
       "      <td>23</td>\n",
       "      <td>0.62</td>\n",
       "      <td>1.02</td>\n",
       "      <td>1.73</td>\n",
       "      <td>-26.3</td>\n",
       "      <td>-0.71</td>\n",
       "      <td>L L L D L</td>\n",
       "      <td>20614</td>\n",
       "      <td>Emmanuel Dennis - 10</td>\n",
       "      <td>Ben Foster</td>\n",
       "    </tr>\n",
       "    <tr>\n",
       "      <th>96</th>\n",
       "      <td>97</td>\n",
       "      <td>Norwich City</td>\n",
       "      <td>ENG</td>\n",
       "      <td>20</td>\n",
       "      <td>37</td>\n",
       "      <td>5</td>\n",
       "      <td>7</td>\n",
       "      <td>25</td>\n",
       "      <td>0.62</td>\n",
       "      <td>2.14</td>\n",
       "      <td>...</td>\n",
       "      <td>22</td>\n",
       "      <td>0.59</td>\n",
       "      <td>0.89</td>\n",
       "      <td>1.98</td>\n",
       "      <td>-40.4</td>\n",
       "      <td>-1.09</td>\n",
       "      <td>L L L L D</td>\n",
       "      <td>26826</td>\n",
       "      <td>Teemu Pukki - 11</td>\n",
       "      <td>Tim Krul</td>\n",
       "    </tr>\n",
       "    <tr>\n",
       "      <th>97</th>\n",
       "      <td>98</td>\n",
       "      <td>Greuther Fürth</td>\n",
       "      <td>GER</td>\n",
       "      <td>18</td>\n",
       "      <td>34</td>\n",
       "      <td>3</td>\n",
       "      <td>9</td>\n",
       "      <td>22</td>\n",
       "      <td>0.82</td>\n",
       "      <td>2.41</td>\n",
       "      <td>...</td>\n",
       "      <td>18</td>\n",
       "      <td>0.53</td>\n",
       "      <td>0.90</td>\n",
       "      <td>1.77</td>\n",
       "      <td>-29.6</td>\n",
       "      <td>-0.87</td>\n",
       "      <td>D L D L L</td>\n",
       "      <td>7672</td>\n",
       "      <td>Branimir Hrgota - 9</td>\n",
       "      <td>Sascha Burchert</td>\n",
       "    </tr>\n",
       "  </tbody>\n",
       "</table>\n",
       "<p>98 rows × 21 columns</p>\n",
       "</div>"
      ],
      "text/plain": [
       "    Rk            Squad Country  LgRk  MP   W   D   L    GF    GA  ...  Pts  \\\n",
       "0    1  Manchester City     ENG     1  37  28   6   3  2.59  0.65  ...   90   \n",
       "1    2        Liverpool     ENG     2  36  26   8   2  2.47  0.67  ...   86   \n",
       "2    3      Real Madrid     ESP     1  37  26   7   4  2.16  0.84  ...   85   \n",
       "3    4    Bayern Munich     GER     1  34  24   5   5  2.85  1.09  ...   77   \n",
       "4    5        Paris S-G     FRA     1  37  25   8   4  2.30  0.97  ...   83   \n",
       "..  ..              ...     ...   ...  ..  ..  ..  ..   ...   ...  ...  ...   \n",
       "93  94         Bordeaux     FRA    20  37   5  13  19  1.30  2.41  ...   28   \n",
       "94  95          Venezia     ITA    20  37   6   8  23  0.92  1.86  ...   26   \n",
       "95  96          Watford     ENG    19  37   6   5  26  0.89  2.03  ...   23   \n",
       "96  97     Norwich City     ENG    20  37   5   7  25  0.62  2.14  ...   22   \n",
       "97  98   Greuther Fürth     GER    18  34   3   9  22  0.82  2.41  ...   18   \n",
       "\n",
       "    Pts/G    xG   xGA   xGD  xGD/90     Last 5 Attendance  \\\n",
       "0    2.43  2.33  0.72  59.3    1.60  W W W W D      52739   \n",
       "1    2.39  2.35  0.92  51.4    1.43  W W W D W      53367   \n",
       "2    2.30  1.97  1.24  27.2    0.73  W W L W D      40624   \n",
       "3    2.26  2.59  1.09  51.0    1.50  W W L D D      33176   \n",
       "4    2.24  1.94  1.03  33.4    0.90  W D D D W      41188   \n",
       "..    ...   ...   ...   ...     ...        ...        ...   \n",
       "93   0.76  1.12  1.85 -27.2   -0.73  D L L L D      22083   \n",
       "94   0.70  0.96  1.91 -35.1   -0.95  L L L W D       6705   \n",
       "95   0.62  1.02  1.73 -26.3   -0.71  L L L D L      20614   \n",
       "96   0.59  0.89  1.98 -40.4   -1.09  L L L L D      26826   \n",
       "97   0.53  0.90  1.77 -29.6   -0.87  D L D L L       7672   \n",
       "\n",
       "            Top Team Scorer        Goalkeeper  \n",
       "0      Kevin De Bruyne - 15           Ederson  \n",
       "1        Mohamed Salah - 22           Alisson  \n",
       "2        Karim Benzema - 27  Thibaut Courtois  \n",
       "3   Robert Lewandowski - 35      Manuel Neuer  \n",
       "4        Kylian Mbappé - 25      Keylor Navas  \n",
       "..                      ...               ...  \n",
       "93         Hwang Ui-jo - 11     Benoît Costil  \n",
       "94         Thomas Henry - 9     Sergio Romero  \n",
       "95     Emmanuel Dennis - 10        Ben Foster  \n",
       "96         Teemu Pukki - 11          Tim Krul  \n",
       "97      Branimir Hrgota - 9   Sascha Burchert  \n",
       "\n",
       "[98 rows x 21 columns]"
      ]
     },
     "execution_count": 5,
     "metadata": {},
     "output_type": "execute_result"
    }
   ],
   "source": [
    "df['GF'] = (df['GF'] / df ['MP']).round(2)\n",
    "df['GA'] = (df['GA'] / df ['MP']).round(2)\n",
    "df['xG'] = (df['xG'] / df ['MP']).round(2)\n",
    "df['xGA'] = (df['xGA'] / df ['MP']).round(2)\n",
    "df['GD'] = df ['GF'] - df['GA']\n",
    "\n",
    "df"
   ]
  },
  {
   "cell_type": "markdown",
   "id": "0ae8582d",
   "metadata": {
    "ExecuteTime": {
     "end_time": "2023-10-02T18:37:44.510952Z",
     "start_time": "2023-10-02T18:37:44.503971Z"
    }
   },
   "source": [
    "A continuación hacemos un pequeño estudio estadístico de las variables numéricas."
   ]
  },
  {
   "cell_type": "code",
   "execution_count": 6,
   "id": "a5128355",
   "metadata": {
    "ExecuteTime": {
     "end_time": "2023-10-02T22:46:04.356759Z",
     "start_time": "2023-10-02T22:46:04.298599Z"
    }
   },
   "outputs": [
    {
     "data": {
      "text/html": [
       "<div>\n",
       "<style scoped>\n",
       "    .dataframe tbody tr th:only-of-type {\n",
       "        vertical-align: middle;\n",
       "    }\n",
       "\n",
       "    .dataframe tbody tr th {\n",
       "        vertical-align: top;\n",
       "    }\n",
       "\n",
       "    .dataframe thead th {\n",
       "        text-align: right;\n",
       "    }\n",
       "</style>\n",
       "<table border=\"1\" class=\"dataframe\">\n",
       "  <thead>\n",
       "    <tr style=\"text-align: right;\">\n",
       "      <th></th>\n",
       "      <th>count</th>\n",
       "      <th>mean</th>\n",
       "      <th>std</th>\n",
       "      <th>min</th>\n",
       "      <th>25%</th>\n",
       "      <th>50%</th>\n",
       "      <th>75%</th>\n",
       "      <th>max</th>\n",
       "    </tr>\n",
       "  </thead>\n",
       "  <tbody>\n",
       "    <tr>\n",
       "      <th>Rk</th>\n",
       "      <td>98.0</td>\n",
       "      <td>49.500000</td>\n",
       "      <td>28.434134</td>\n",
       "      <td>1.00</td>\n",
       "      <td>25.2500</td>\n",
       "      <td>49.500</td>\n",
       "      <td>73.7500</td>\n",
       "      <td>98.00</td>\n",
       "    </tr>\n",
       "    <tr>\n",
       "      <th>LgRk</th>\n",
       "      <td>98.0</td>\n",
       "      <td>10.316327</td>\n",
       "      <td>5.706926</td>\n",
       "      <td>1.00</td>\n",
       "      <td>5.2500</td>\n",
       "      <td>10.000</td>\n",
       "      <td>15.0000</td>\n",
       "      <td>20.00</td>\n",
       "    </tr>\n",
       "    <tr>\n",
       "      <th>MP</th>\n",
       "      <td>98.0</td>\n",
       "      <td>36.306122</td>\n",
       "      <td>1.152390</td>\n",
       "      <td>34.00</td>\n",
       "      <td>36.0000</td>\n",
       "      <td>37.000</td>\n",
       "      <td>37.0000</td>\n",
       "      <td>37.00</td>\n",
       "    </tr>\n",
       "    <tr>\n",
       "      <th>W</th>\n",
       "      <td>98.0</td>\n",
       "      <td>13.448980</td>\n",
       "      <td>5.747474</td>\n",
       "      <td>3.00</td>\n",
       "      <td>9.0000</td>\n",
       "      <td>13.000</td>\n",
       "      <td>17.0000</td>\n",
       "      <td>28.00</td>\n",
       "    </tr>\n",
       "    <tr>\n",
       "      <th>D</th>\n",
       "      <td>98.0</td>\n",
       "      <td>9.408163</td>\n",
       "      <td>2.903381</td>\n",
       "      <td>3.00</td>\n",
       "      <td>7.0000</td>\n",
       "      <td>9.000</td>\n",
       "      <td>11.0000</td>\n",
       "      <td>16.00</td>\n",
       "    </tr>\n",
       "    <tr>\n",
       "      <th>L</th>\n",
       "      <td>98.0</td>\n",
       "      <td>13.448980</td>\n",
       "      <td>5.123470</td>\n",
       "      <td>2.00</td>\n",
       "      <td>10.0000</td>\n",
       "      <td>13.000</td>\n",
       "      <td>17.0000</td>\n",
       "      <td>26.00</td>\n",
       "    </tr>\n",
       "    <tr>\n",
       "      <th>GF</th>\n",
       "      <td>98.0</td>\n",
       "      <td>1.403776</td>\n",
       "      <td>0.453310</td>\n",
       "      <td>0.62</td>\n",
       "      <td>1.0800</td>\n",
       "      <td>1.305</td>\n",
       "      <td>1.6725</td>\n",
       "      <td>2.85</td>\n",
       "    </tr>\n",
       "    <tr>\n",
       "      <th>GA</th>\n",
       "      <td>98.0</td>\n",
       "      <td>1.403367</td>\n",
       "      <td>0.378905</td>\n",
       "      <td>0.65</td>\n",
       "      <td>1.0900</td>\n",
       "      <td>1.390</td>\n",
       "      <td>1.6500</td>\n",
       "      <td>2.41</td>\n",
       "    </tr>\n",
       "    <tr>\n",
       "      <th>GD</th>\n",
       "      <td>98.0</td>\n",
       "      <td>0.000408</td>\n",
       "      <td>0.731121</td>\n",
       "      <td>-1.59</td>\n",
       "      <td>-0.5000</td>\n",
       "      <td>-0.030</td>\n",
       "      <td>0.4675</td>\n",
       "      <td>1.94</td>\n",
       "    </tr>\n",
       "    <tr>\n",
       "      <th>Pts</th>\n",
       "      <td>98.0</td>\n",
       "      <td>49.734694</td>\n",
       "      <td>16.166371</td>\n",
       "      <td>18.00</td>\n",
       "      <td>37.0000</td>\n",
       "      <td>46.000</td>\n",
       "      <td>61.7500</td>\n",
       "      <td>90.00</td>\n",
       "    </tr>\n",
       "    <tr>\n",
       "      <th>Pts/G</th>\n",
       "      <td>98.0</td>\n",
       "      <td>1.370204</td>\n",
       "      <td>0.443903</td>\n",
       "      <td>0.53</td>\n",
       "      <td>1.0000</td>\n",
       "      <td>1.300</td>\n",
       "      <td>1.6950</td>\n",
       "      <td>2.43</td>\n",
       "    </tr>\n",
       "    <tr>\n",
       "      <th>xG</th>\n",
       "      <td>98.0</td>\n",
       "      <td>1.342551</td>\n",
       "      <td>0.351182</td>\n",
       "      <td>0.76</td>\n",
       "      <td>1.0625</td>\n",
       "      <td>1.300</td>\n",
       "      <td>1.5375</td>\n",
       "      <td>2.59</td>\n",
       "    </tr>\n",
       "    <tr>\n",
       "      <th>xGA</th>\n",
       "      <td>98.0</td>\n",
       "      <td>1.341633</td>\n",
       "      <td>0.274244</td>\n",
       "      <td>0.72</td>\n",
       "      <td>1.1225</td>\n",
       "      <td>1.335</td>\n",
       "      <td>1.5300</td>\n",
       "      <td>1.98</td>\n",
       "    </tr>\n",
       "    <tr>\n",
       "      <th>xGD</th>\n",
       "      <td>98.0</td>\n",
       "      <td>-0.005102</td>\n",
       "      <td>19.992506</td>\n",
       "      <td>-40.40</td>\n",
       "      <td>-13.5750</td>\n",
       "      <td>-1.100</td>\n",
       "      <td>12.8000</td>\n",
       "      <td>59.30</td>\n",
       "    </tr>\n",
       "    <tr>\n",
       "      <th>xGD/90</th>\n",
       "      <td>98.0</td>\n",
       "      <td>0.000918</td>\n",
       "      <td>0.551414</td>\n",
       "      <td>-1.09</td>\n",
       "      <td>-0.3650</td>\n",
       "      <td>-0.030</td>\n",
       "      <td>0.3550</td>\n",
       "      <td>1.60</td>\n",
       "    </tr>\n",
       "    <tr>\n",
       "      <th>Attendance</th>\n",
       "      <td>98.0</td>\n",
       "      <td>24239.857143</td>\n",
       "      <td>14874.171842</td>\n",
       "      <td>5870.00</td>\n",
       "      <td>12355.5000</td>\n",
       "      <td>20491.000</td>\n",
       "      <td>32382.0000</td>\n",
       "      <td>73150.00</td>\n",
       "    </tr>\n",
       "  </tbody>\n",
       "</table>\n",
       "</div>"
      ],
      "text/plain": [
       "            count          mean           std      min         25%        50%  \\\n",
       "Rk           98.0     49.500000     28.434134     1.00     25.2500     49.500   \n",
       "LgRk         98.0     10.316327      5.706926     1.00      5.2500     10.000   \n",
       "MP           98.0     36.306122      1.152390    34.00     36.0000     37.000   \n",
       "W            98.0     13.448980      5.747474     3.00      9.0000     13.000   \n",
       "D            98.0      9.408163      2.903381     3.00      7.0000      9.000   \n",
       "L            98.0     13.448980      5.123470     2.00     10.0000     13.000   \n",
       "GF           98.0      1.403776      0.453310     0.62      1.0800      1.305   \n",
       "GA           98.0      1.403367      0.378905     0.65      1.0900      1.390   \n",
       "GD           98.0      0.000408      0.731121    -1.59     -0.5000     -0.030   \n",
       "Pts          98.0     49.734694     16.166371    18.00     37.0000     46.000   \n",
       "Pts/G        98.0      1.370204      0.443903     0.53      1.0000      1.300   \n",
       "xG           98.0      1.342551      0.351182     0.76      1.0625      1.300   \n",
       "xGA          98.0      1.341633      0.274244     0.72      1.1225      1.335   \n",
       "xGD          98.0     -0.005102     19.992506   -40.40    -13.5750     -1.100   \n",
       "xGD/90       98.0      0.000918      0.551414    -1.09     -0.3650     -0.030   \n",
       "Attendance   98.0  24239.857143  14874.171842  5870.00  12355.5000  20491.000   \n",
       "\n",
       "                   75%       max  \n",
       "Rk             73.7500     98.00  \n",
       "LgRk           15.0000     20.00  \n",
       "MP             37.0000     37.00  \n",
       "W              17.0000     28.00  \n",
       "D              11.0000     16.00  \n",
       "L              17.0000     26.00  \n",
       "GF              1.6725      2.85  \n",
       "GA              1.6500      2.41  \n",
       "GD              0.4675      1.94  \n",
       "Pts            61.7500     90.00  \n",
       "Pts/G           1.6950      2.43  \n",
       "xG              1.5375      2.59  \n",
       "xGA             1.5300      1.98  \n",
       "xGD            12.8000     59.30  \n",
       "xGD/90          0.3550      1.60  \n",
       "Attendance  32382.0000  73150.00  "
      ]
     },
     "execution_count": 6,
     "metadata": {},
     "output_type": "execute_result"
    }
   ],
   "source": [
    "df.describe().T"
   ]
  },
  {
   "cell_type": "markdown",
   "id": "3c3abd8e",
   "metadata": {},
   "source": [
    "Para el primer ejercicio vamos a comprobar si los goles recibidos 'GA' por los equipos europeos sigue una distribución normal. El test elegido es Shapiro-Wilk puesto que es generalmente adecuada para una variedad de formas de distribuciones y no está limitada a un tamaño de muestra específico. El planteamiento de la hipótesis sería:\n",
    "   - **Ho. Hipótesis Nula**: La muestra de los goles encajados sigue una distribución normal.\n",
    "   - **H1. Hipótesis Alternativa**: La muestra de goles encajados no sigue una distribución normal."
   ]
  },
  {
   "cell_type": "code",
   "execution_count": 7,
   "id": "d485f748",
   "metadata": {
    "ExecuteTime": {
     "end_time": "2023-10-02T22:46:05.966316Z",
     "start_time": "2023-10-02T22:46:05.954173Z"
    }
   },
   "outputs": [
    {
     "name": "stdout",
     "output_type": "stream",
     "text": [
      "stat=0.984, p=0.262\n",
      "Probably Gaussian\n"
     ]
    }
   ],
   "source": [
    "from scipy.stats import shapiro\n",
    "stat, p = shapiro(df['GA'])\n",
    "print('stat=%.3f, p=%.3f' % (stat, p))\n",
    "if p > 0.05:\n",
    " print('Probably Gaussian')\n",
    "else:\n",
    " print('Probably not Gaussian')"
   ]
  },
  {
   "cell_type": "markdown",
   "id": "73707c42",
   "metadata": {},
   "source": [
    "Como se puede apreciar, el valor de 'p' es superior a alfa ('0.05'), lo cual conduce a la aceptación de la hipótesis nula. Con un nivel de confianza del 95%, podemos afirmar con certeza que la distribución de goles encajados sigue una distribución normal.\n",
    "\n",
    "Una vez confirmado vamos a ver como se vería la distribución de densidad de probabilidad."
   ]
  },
  {
   "cell_type": "code",
   "execution_count": 8,
   "id": "30413a49",
   "metadata": {
    "ExecuteTime": {
     "end_time": "2023-10-02T22:46:07.896123Z",
     "start_time": "2023-10-02T22:46:07.666172Z"
    },
    "scrolled": true
   },
   "outputs": [
    {
     "data": {
      "text/plain": [
       "<Axes: xlabel='GA', ylabel='Density'>"
      ]
     },
     "execution_count": 8,
     "metadata": {},
     "output_type": "execute_result"
    },
    {
     "data": {
      "image/png": "[encoded data removed]",
      "text/plain": [
       "<Figure size 640x480 with 1 Axes>"
      ]
     },
     "metadata": {},
     "output_type": "display_data"
    }
   ],
   "source": [
    "sns.kdeplot(df,x= 'GA', fill=True)"
   ]
  },
  {
   "cell_type": "markdown",
   "id": "01876e07",
   "metadata": {},
   "source": [
    "## Exercici 2\n",
    "**Amb el mateix dataset selecciona dos altres atributs del conjunt de dades. Calcula els p-valors i digues si rebutgen la hipòtesi nul·la agafant un alfa de 5%.**"
   ]
  },
  {
   "cell_type": "markdown",
   "id": "48a6b462",
   "metadata": {
    "ExecuteTime": {
     "end_time": "2023-10-02T19:25:28.315049Z",
     "start_time": "2023-10-02T19:25:28.307288Z"
    }
   },
   "source": [
    "Mi objetivo esta ocasión es saber si existe correlación entre los goles encajados 'GA' y el números de puntos por partido 'Pts/G'.\n",
    "\n",
    "Ya sabemos que 'GA' sigue una distribución normal, a continuación comprobaremos si 'Pts/G' también, con tal de decidir que test de hipotesis seguiremos.\n",
    "\n",
    "A modo de curiosidad esta vez vamos a ver primero el gráfico de kernel para ver como estan distribuidos los datos."
   ]
  },
  {
   "cell_type": "code",
   "execution_count": 9,
   "id": "940d006e",
   "metadata": {
    "ExecuteTime": {
     "end_time": "2023-10-02T22:46:10.313474Z",
     "start_time": "2023-10-02T22:46:10.082233Z"
    }
   },
   "outputs": [
    {
     "data": {
      "text/plain": [
       "<Axes: xlabel='Pts/G', ylabel='Density'>"
      ]
     },
     "execution_count": 9,
     "metadata": {},
     "output_type": "execute_result"
    },
    {
     "data": {
      "image/png": "[encoded data removed]",
      "text/plain": [
       "<Figure size 640x480 with 1 Axes>"
      ]
     },
     "metadata": {},
     "output_type": "display_data"
    }
   ],
   "source": [
    "sns.kdeplot(df,x= 'Pts/G', fill=True)"
   ]
  },
  {
   "cell_type": "markdown",
   "id": "908ddc46",
   "metadata": {},
   "source": [
    "A simple vista vemos que el gráfico tiene cierto parecido a una campana, aunque desplazada hacia la derecha. Seguramente esto sea debido a que la victoria valga 3 puntos. Parece claro que en caso de que la victoria valiese 2 puntos la gráfica sería mas simétrica. Veamos que nos dice el test.\n",
    "\n",
    "Igual que en el ejercicio anterior, para comprobarlo analíticamente utilizaremos el test de Shapiro-Wilk y el planteamiento será el siguiente:\n",
    "\n",
    "   - **Ho. Hipótesis Nula**: La muestra de los puntos por partido sigue una distribución normal.\n",
    "   - **H1. Hipótesis Alternativa**: La muestra de los puntos por partido no sigue una distribución normal."
   ]
  },
  {
   "cell_type": "code",
   "execution_count": 10,
   "id": "b6c31c0d",
   "metadata": {
    "ExecuteTime": {
     "end_time": "2023-10-02T22:46:11.753278Z",
     "start_time": "2023-10-02T22:46:11.746400Z"
    }
   },
   "outputs": [
    {
     "name": "stdout",
     "output_type": "stream",
     "text": [
      "stat=0.972, p=0.035\n",
      "Probably not Gaussian\n"
     ]
    }
   ],
   "source": [
    "stat, p = shapiro(df['Pts/G'])\n",
    "print('stat=%.3f, p=%.3f' % (stat, p))\n",
    "if p > 0.05:\n",
    " print('Probably Gaussian')\n",
    "else:\n",
    " print('Probably not Gaussian')"
   ]
  },
  {
   "cell_type": "markdown",
   "id": "d1983da8",
   "metadata": {},
   "source": [
    "En este caso 'p' es menor que '0.05' de forma que rechazamos la hipótesis nula, y nos quedamos con la alternativa (los puntos por partido no sigue una distribución normal)\n",
    "\n",
    "Esto nos obliga a desechar el test de correlación de Pearson, pues este supone que ambas muestras sigan una distribución normal, que no es el caso. Y nos decantamos por el coeficiente de correlacion de Spearman, especialmente útil cuando las relaciones entre las variables no son lineales y cuando los datos no cumplen con la asunción de normalidad.\n",
    "\n",
    "La **hipótesis nula (H0)** en la prueba de Spearman es que no hay correlación entre las dos variables, mientras que la **hipótesis alternativa (H1)** sugiere que hay una correlación significativa.\n"
   ]
  },
  {
   "cell_type": "code",
   "execution_count": 11,
   "id": "b39be969",
   "metadata": {
    "ExecuteTime": {
     "end_time": "2023-10-02T22:46:13.397834Z",
     "start_time": "2023-10-02T22:46:13.386303Z"
    }
   },
   "outputs": [
    {
     "name": "stdout",
     "output_type": "stream",
     "text": [
      "stat=-0.813, p=0.000\n",
      "Probably dependent\n"
     ]
    }
   ],
   "source": [
    "from scipy.stats import spearmanr\n",
    "stat, p = spearmanr(df['GA'], df ['Pts/G'])\n",
    "print('stat=%.3f, p=%.3f' % (stat, p))\n",
    "if p > 0.05:\n",
    " print('Probably independent')\n",
    "else:\n",
    " print('Probably dependent')"
   ]
  },
  {
   "cell_type": "markdown",
   "id": "0527cb01",
   "metadata": {},
   "source": [
    "El valor de 'p' es casi nulo de manera que rechazamos rotundamente la Ho y podemos asegurar que existe una correlación significativa.\n",
    "\n",
    "El valor estadístico es cercano a -1 lo cual quiere decir que existe una fuerte relación inversa entre ambos atributos. \n",
    "\n",
    "Intentemos plasmarlo en un gráfico."
   ]
  },
  {
   "cell_type": "code",
   "execution_count": 12,
   "id": "8e4469ac",
   "metadata": {
    "ExecuteTime": {
     "end_time": "2023-10-02T22:46:15.277421Z",
     "start_time": "2023-10-02T22:46:14.969756Z"
    }
   },
   "outputs": [
    {
     "data": {
      "text/plain": [
       "<Axes: xlabel='GA', ylabel='Pts/G'>"
      ]
     },
     "execution_count": 12,
     "metadata": {},
     "output_type": "execute_result"
    },
    {
     "data": {
      "image/png": "[encoded data removed]",
      "text/plain": [
       "<Figure size 640x480 with 1 Axes>"
      ]
     },
     "metadata": {},
     "output_type": "display_data"
    }
   ],
   "source": [
    "sns.regplot(x='GA', y='Pts/G', data=df)"
   ]
  },
  {
   "cell_type": "markdown",
   "id": "3df2e8a7",
   "metadata": {},
   "source": [
    "## Exercici 3\n",
    "**Continua amb el conjunt de dades adjunt i selecciona tres atributs del conjunt de dades. Calcula el p-valor i digues si rebutja la hipòtesi nul·la agafant un alfa de 5%.**"
   ]
  },
  {
   "cell_type": "markdown",
   "id": "c04361b2",
   "metadata": {},
   "source": [
    "En este apartado vamos a intentar dislucidar si hay una liga mas \"fallona\" que otra, es decir vamos a comparar si hay diferencias significativas entre las medias de goles esperados por partido 'xG' menos goles conseguidos por partido 'GF' en la liga española, francesa e inglesa.\n",
    "\n",
    "Creamos una variable nueva que llamaremos 'fallo'."
   ]
  },
  {
   "cell_type": "code",
   "execution_count": 13,
   "id": "58e2620a",
   "metadata": {
    "ExecuteTime": {
     "end_time": "2023-10-02T22:46:17.412584Z",
     "start_time": "2023-10-02T22:46:17.401338Z"
    }
   },
   "outputs": [],
   "source": [
    "df ['fallo'] = df ['xG'] - df ['GF']\n",
    "fallo_esp = df[df['Country'] == 'ESP']['fallo']\n",
    "fallo_fra = df[df['Country'] == 'FRA']['fallo']\n",
    "fallo_ing = df[df['Country'] == 'ENG']['fallo']"
   ]
  },
  {
   "cell_type": "markdown",
   "id": "0f094b38",
   "metadata": {},
   "source": [
    "Y a continuación haremos para las muestras de cada pais el test de Shapiro-Wilk con tal de saber si tienen una distribución normal, en este caso con mas razón elegimos este test pues son muestras menores de 30 elementos. El planteamiento será el mismo que anteriormente: \n",
    "La **hipótesis nula (H0)** será que la muestra sigue una distribución normal, mientras que la **hipótesis alternativa (H1)** sugiere que no hay una distribución normal."
   ]
  },
  {
   "cell_type": "code",
   "execution_count": 14,
   "id": "320dc161",
   "metadata": {
    "ExecuteTime": {
     "end_time": "2023-10-02T22:46:19.235217Z",
     "start_time": "2023-10-02T22:46:19.218312Z"
    },
    "code_folding": [
     2
    ]
   },
   "outputs": [
    {
     "name": "stdout",
     "output_type": "stream",
     "text": [
      "stat=-0.813, p=0.418\n",
      "Probably Gaussian\n"
     ]
    }
   ],
   "source": [
    "statistic, p = shapiro(fallo_esp)\n",
    "print('stat=%.3f, p=%.3f' % (stat, p))\n",
    "if p > 0.05:\n",
    " print('Probably Gaussian')\n",
    "else:\n",
    " print('Probably not Gaussian')"
   ]
  },
  {
   "cell_type": "code",
   "execution_count": 15,
   "id": "5078659b",
   "metadata": {
    "ExecuteTime": {
     "end_time": "2023-10-02T22:46:20.068329Z",
     "start_time": "2023-10-02T22:46:20.049491Z"
    }
   },
   "outputs": [
    {
     "name": "stdout",
     "output_type": "stream",
     "text": [
      "stat=0.969, p=0.737\n",
      "Probably Gaussian\n"
     ]
    }
   ],
   "source": [
    "stat, p = shapiro(fallo_fra)\n",
    "print('stat=%.3f, p=%.3f' % (stat, p))\n",
    "if p > 0.05:\n",
    " print('Probably Gaussian')\n",
    "else:\n",
    " print('Probably not Gaussian')"
   ]
  },
  {
   "cell_type": "code",
   "execution_count": 16,
   "id": "1c6dde60",
   "metadata": {
    "ExecuteTime": {
     "end_time": "2023-10-02T22:46:20.944531Z",
     "start_time": "2023-10-02T22:46:20.938546Z"
    },
    "scrolled": true
   },
   "outputs": [
    {
     "name": "stdout",
     "output_type": "stream",
     "text": [
      "stat=0.954, p=0.425\n",
      "Probably Gaussian\n"
     ]
    }
   ],
   "source": [
    "stat, p = shapiro(fallo_ing)\n",
    "print('stat=%.3f, p=%.3f' % (stat, p))\n",
    "if p > 0.05:\n",
    " print('Probably Gaussian')\n",
    "else:\n",
    " print('Probably not Gaussian')"
   ]
  },
  {
   "cell_type": "markdown",
   "id": "cda44c2d",
   "metadata": {},
   "source": [
    "Como podemos comprobar las 'p' de todos los test es muy superior a '0.05', de forma que aceptamos en las tres ligas la hipótesis nula, es decir todas siguen una distribución normal.\n",
    "\n",
    "El test mas utilizado para comparar si existen diferencias significativas entre más de dos muestras es el test ANOVA el cuál requiere de homogeneidad de las varianzas de las muestras. Por lo que a continuación realizaremos el test de Levene. La formulación de la hipótesis es:\n",
    "\n",
    "-**Hipótesis nula (H0)**: Las varianzas son iguales en todos los grupos.\n",
    "\n",
    "-**Hipótesis alternativa (H1)**: Al menos una de las varianzas es diferente.\n"
   ]
  },
  {
   "cell_type": "code",
   "execution_count": 17,
   "id": "e0898f4d",
   "metadata": {
    "ExecuteTime": {
     "end_time": "2023-10-02T22:46:22.612943Z",
     "start_time": "2023-10-02T22:46:22.602059Z"
    }
   },
   "outputs": [
    {
     "name": "stdout",
     "output_type": "stream",
     "text": [
      "stat=0.426, p=0.655\n",
      "No existen diferencias significativas entre las varianzas.\n"
     ]
    }
   ],
   "source": [
    "from scipy.stats import levene\n",
    "stat, p = levene(fallo_esp, fallo_fra, fallo_ing)\n",
    "print('stat=%.3f, p=%.3f' % (stat, p))\n",
    "if p > 0.05:\n",
    "    print(\"No existen diferencias significativas entre las varianzas.\")\n",
    "else:\n",
    "    print(\"Existe diferencias significativas entre las varianzas.\")"
   ]
  },
  {
   "cell_type": "markdown",
   "id": "1abba029",
   "metadata": {},
   "source": [
    "El resultado de la 'p' es muy superior a la alfa por lo que aceptamos la hipótesis nula y concluimos que no existen diferencias significativas entre las varianzas.\n",
    "\n",
    "Llegados aquí y habiendo demostrado que se cumplen las asunciones del test ANOVA, procedemos a ejecutarlo en busca de una respuesta. En este caso la **Ho. Hipótesis Nula** será que no existen diferencias significativas entre las medias de las muestras y la **H1. Hipotesis Alternativa** será que existen diferencias significativas entre las medias."
   ]
  },
  {
   "cell_type": "code",
   "execution_count": 18,
   "id": "7384e662",
   "metadata": {
    "ExecuteTime": {
     "end_time": "2023-10-02T22:46:24.413544Z",
     "start_time": "2023-10-02T22:46:24.401892Z"
    }
   },
   "outputs": [
    {
     "name": "stdout",
     "output_type": "stream",
     "text": [
      "stat=0.447, p=0.642\n",
      "Probably the same distribution\n"
     ]
    }
   ],
   "source": [
    "from scipy.stats import f_oneway\n",
    "stat, p = f_oneway(fallo_esp, fallo_fra, fallo_ing)\n",
    "print('stat=%.3f, p=%.3f' % (stat, p))\n",
    "if p > 0.05:\n",
    "\tprint('Probably the same distribution')\n",
    "else:\n",
    "\tprint('Probably different distributions')"
   ]
  },
  {
   "cell_type": "markdown",
   "id": "cf575eb5",
   "metadata": {},
   "source": [
    "Pues podemos concluir que no existen ligas mas \"fallonas\" que otras puesto que la 'p' es muy superior a '0,05' con lo cual aceptamos las hipotesis nula, es decir que las muestras no tienen diferencias significativas.\n",
    "\n",
    "Acabemos la tarea ilustrando este último ejercicio con una gráfica superpuesta de las tres muestras."
   ]
  },
  {
   "cell_type": "code",
   "execution_count": 19,
   "id": "f69ce663",
   "metadata": {
    "ExecuteTime": {
     "end_time": "2023-10-02T22:46:27.074458Z",
     "start_time": "2023-10-02T22:46:26.751052Z"
    }
   },
   "outputs": [
    {
     "data": {
      "text/plain": [
       "<matplotlib.legend.Legend at 0x226477e8df0>"
      ]
     },
     "execution_count": 19,
     "metadata": {},
     "output_type": "execute_result"
    },
    {
     "data": {
      "image/png": "[encoded data removed]",
      "text/plain": [
       "<Figure size 640x480 with 1 Axes>"
      ]
     },
     "metadata": {},
     "output_type": "display_data"
    }
   ],
   "source": [
    "countries = {'ESP', 'FRA', 'ENG'}\n",
    "for country in countries:\n",
    "    data_country = df[df['Country'] == country]['fallo']\n",
    "    sns.kdeplot(data=data_country, fill=True, label=country)\n",
    "plt.legend()"
   ]
  }
 ],
 "metadata": {
  "hide_input": false,
  "kernelspec": {
   "display_name": "Python 3 (ipykernel)",
   "language": "python",
   "name": "python3"
  },
  "language_info": {
   "codemirror_mode": {
    "name": "ipython",
    "version": 3
   },
   "file_extension": ".py",
   "mimetype": "text/x-python",
   "name": "python",
   "nbconvert_exporter": "python",
   "pygments_lexer": "ipython3",
   "version": "3.9.16"
  },
  "nbTranslate": {
   "displayLangs": [
    "*"
   ],
   "hotkey": "alt-t",
   "langInMainMenu": true,
   "sourceLang": "en",
   "targetLang": "fr",
   "useGoogleTranslate": true
  },
  "toc": {
   "base_numbering": 1,
   "nav_menu": {},
   "number_sections": true,
   "sideBar": true,
   "skip_h1_title": false,
   "title_cell": "Table of Contents",
   "title_sidebar": "Contents",
   "toc_cell": false,
   "toc_position": {},
   "toc_section_display": true,
   "toc_window_display": false
  },
  "varInspector": {
   "cols": {
    "lenName": 16,
    "lenType": 16,
    "lenVar": 40
   },
   "kernels_config": {
    "python": {
     "delete_cmd_postfix": "",
     "delete_cmd_prefix": "del ",
     "library": "var_list.py",
     "varRefreshCmd": "print(var_dic_list())"
    },
    "r": {
     "delete_cmd_postfix": ") ",
     "delete_cmd_prefix": "rm(",
     "library": "var_list.r",
     "varRefreshCmd": "cat(var_dic_list()) "
    }
   },
   "types_to_exclude": [
    "module",
    "function",
    "builtin_function_or_method",
    "instance",
    "_Feature"
   ],
   "window_display": false
  }
 },
 "nbformat": 4,
 "nbformat_minor": 5
}
